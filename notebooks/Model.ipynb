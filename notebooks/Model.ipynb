{
  "nbformat": 4,
  "nbformat_minor": 0,
  "metadata": {
    "colab": {
      "name": "Model",
      "provenance": [],
      "toc_visible": true
    },
    "kernelspec": {
      "name": "python3",
      "display_name": "Python 3"
    }
  },
  "cells": [
    {
      "cell_type": "code",
      "metadata": {
        "colab": {
          "base_uri": "https://localhost:8080/"
        },
        "id": "dE3oEb1-sipi",
        "outputId": "dbc8636c-cb48-4687-a02a-fe4ae476dea9"
      },
      "source": [
        "!pip install category_encoders"
      ],
      "execution_count": 48,
      "outputs": [
        {
          "output_type": "stream",
          "text": [
            "Requirement already satisfied: category_encoders in /usr/local/lib/python3.7/dist-packages (2.2.2)\n",
            "Requirement already satisfied: pandas>=0.21.1 in /usr/local/lib/python3.7/dist-packages (from category_encoders) (1.1.5)\n",
            "Requirement already satisfied: scipy>=1.0.0 in /usr/local/lib/python3.7/dist-packages (from category_encoders) (1.4.1)\n",
            "Requirement already satisfied: numpy>=1.14.0 in /usr/local/lib/python3.7/dist-packages (from category_encoders) (1.19.5)\n",
            "Requirement already satisfied: statsmodels>=0.9.0 in /usr/local/lib/python3.7/dist-packages (from category_encoders) (0.10.2)\n",
            "Requirement already satisfied: scikit-learn>=0.20.0 in /usr/local/lib/python3.7/dist-packages (from category_encoders) (0.22.2.post1)\n",
            "Requirement already satisfied: patsy>=0.5.1 in /usr/local/lib/python3.7/dist-packages (from category_encoders) (0.5.1)\n",
            "Requirement already satisfied: pytz>=2017.2 in /usr/local/lib/python3.7/dist-packages (from pandas>=0.21.1->category_encoders) (2018.9)\n",
            "Requirement already satisfied: python-dateutil>=2.7.3 in /usr/local/lib/python3.7/dist-packages (from pandas>=0.21.1->category_encoders) (2.8.1)\n",
            "Requirement already satisfied: joblib>=0.11 in /usr/local/lib/python3.7/dist-packages (from scikit-learn>=0.20.0->category_encoders) (1.0.1)\n",
            "Requirement already satisfied: six in /usr/local/lib/python3.7/dist-packages (from patsy>=0.5.1->category_encoders) (1.15.0)\n"
          ],
          "name": "stdout"
        }
      ]
    },
    {
      "cell_type": "code",
      "metadata": {
        "id": "oyj9yjiIscAw"
      },
      "source": [
        "import datetime as dt\r\n",
        "import pandas as pd\r\n",
        "import numpy as np\r\n",
        "import seaborn as sns\r\n",
        "import joblib\r\n",
        "\r\n",
        "from pandas_profiling import ProfileReport\r\n",
        "from category_encoders import OrdinalEncoder\r\n",
        "from category_encoders import OneHotEncoder\r\n",
        "\r\n",
        "from sklearn.pipeline import Pipeline\r\n",
        "from sklearn.ensemble import RandomForestClassifier\r\n",
        "from sklearn.impute import SimpleImputer\r\n",
        "from sklearn.model_selection import train_test_split\r\n",
        "from sklearn.metrics import classification_report"
      ],
      "execution_count": 104,
      "outputs": []
    },
    {
      "cell_type": "code",
      "metadata": {
        "id": "2EEmwcnhbpUQ"
      },
      "source": [
        "import plotly.graph_objects as go\n",
        "import sqlalchemy\n",
        "\n",
        "engine = sqlalchemy.create_engine(SQLALCHEMY_DATABASE_URL)\n",
        "df = pd.read_sql_table('members',engine)\n"
      ],
      "execution_count": 50,
      "outputs": []
    },
    {
      "cell_type": "code",
      "metadata": {
        "colab": {
          "base_uri": "https://localhost:8080/",
          "height": 564
        },
        "id": "GgdGLDvxE5ZE",
        "outputId": "5ccaf719-e7a9-41e4-b9c0-5e59907a7cf0"
      },
      "source": [
        "df.head()"
      ],
      "execution_count": 179,
      "outputs": [
        {
          "output_type": "execute_result",
          "data": {
            "text/html": [
              "<div>\n",
              "<style scoped>\n",
              "    .dataframe tbody tr th:only-of-type {\n",
              "        vertical-align: middle;\n",
              "    }\n",
              "\n",
              "    .dataframe tbody tr th {\n",
              "        vertical-align: top;\n",
              "    }\n",
              "\n",
              "    .dataframe thead th {\n",
              "        text-align: right;\n",
              "    }\n",
              "</style>\n",
              "<table border=\"1\" class=\"dataframe\">\n",
              "  <thead>\n",
              "    <tr style=\"text-align: right;\">\n",
              "      <th></th>\n",
              "      <th>id</th>\n",
              "      <th>date_of_enrollment</th>\n",
              "      <th>household_type</th>\n",
              "      <th>length_of_stay</th>\n",
              "      <th>demographics</th>\n",
              "      <th>barriers</th>\n",
              "      <th>schools</th>\n",
              "      <th>case_members</th>\n",
              "      <th>predicted_exit_destination</th>\n",
              "      <th>family_id</th>\n",
              "      <th>date_of_exit</th>\n",
              "      <th>income_at_exit</th>\n",
              "      <th>exit_destination</th>\n",
              "    </tr>\n",
              "  </thead>\n",
              "  <tbody>\n",
              "    <tr>\n",
              "      <th>0</th>\n",
              "      <td>56550</td>\n",
              "      <td>2017-09-10</td>\n",
              "      <td>Household with Adults and Children</td>\n",
              "      <td>120</td>\n",
              "      <td>{'race': 'White', 'gender': 'Male', 'income': ...</td>\n",
              "      <td>{'HIV_AIDs': '', 'drug_abuse': '', 'alcohol_ab...</td>\n",
              "      <td>{'enrolled_status': ''}</td>\n",
              "      <td>6</td>\n",
              "      <td>None</td>\n",
              "      <td>92775</td>\n",
              "      <td>2018-01-08</td>\n",
              "      <td>-1</td>\n",
              "      <td>Unknown/Other</td>\n",
              "    </tr>\n",
              "    <tr>\n",
              "      <th>1</th>\n",
              "      <td>36139</td>\n",
              "      <td>2017-09-10</td>\n",
              "      <td>Household with Adults and Children</td>\n",
              "      <td>136</td>\n",
              "      <td>{'race': 'White', 'gender': 'Female', 'income'...</td>\n",
              "      <td>{'HIV_AIDs': '', 'drug_abuse': '', 'alcohol_ab...</td>\n",
              "      <td>{'enrolled_status': ''}</td>\n",
              "      <td>6</td>\n",
              "      <td>None</td>\n",
              "      <td>92775</td>\n",
              "      <td>2018-01-24</td>\n",
              "      <td>-1</td>\n",
              "      <td>Unknown/Other</td>\n",
              "    </tr>\n",
              "    <tr>\n",
              "      <th>2</th>\n",
              "      <td>36140</td>\n",
              "      <td>2017-09-10</td>\n",
              "      <td>Household with Adults and Children</td>\n",
              "      <td>120</td>\n",
              "      <td>{'race': 'White', 'gender': 'Male', 'income': ...</td>\n",
              "      <td>{'HIV_AIDs': '', 'drug_abuse': '', 'alcohol_ab...</td>\n",
              "      <td>{'enrolled_status': ''}</td>\n",
              "      <td>6</td>\n",
              "      <td>None</td>\n",
              "      <td>92775</td>\n",
              "      <td>2018-01-08</td>\n",
              "      <td>-1</td>\n",
              "      <td>Unknown/Other</td>\n",
              "    </tr>\n",
              "    <tr>\n",
              "      <th>3</th>\n",
              "      <td>36141</td>\n",
              "      <td>2017-09-10</td>\n",
              "      <td>Household with Adults and Children</td>\n",
              "      <td>120</td>\n",
              "      <td>{'race': 'White', 'gender': 'Female', 'income'...</td>\n",
              "      <td>{'HIV_AIDs': '', 'drug_abuse': 'Drug Abuse', '...</td>\n",
              "      <td>{'enrolled_status': ''}</td>\n",
              "      <td>6</td>\n",
              "      <td>None</td>\n",
              "      <td>92775</td>\n",
              "      <td>2018-01-08</td>\n",
              "      <td>1600</td>\n",
              "      <td>Unknown/Other</td>\n",
              "    </tr>\n",
              "    <tr>\n",
              "      <th>4</th>\n",
              "      <td>36142</td>\n",
              "      <td>2017-09-10</td>\n",
              "      <td>Household with Adults and Children</td>\n",
              "      <td>120</td>\n",
              "      <td>{'race': 'White', 'gender': 'Male', 'income': ...</td>\n",
              "      <td>{'HIV_AIDs': '', 'drug_abuse': '', 'alcohol_ab...</td>\n",
              "      <td>{'enrolled_status': ''}</td>\n",
              "      <td>6</td>\n",
              "      <td>None</td>\n",
              "      <td>92775</td>\n",
              "      <td>2018-01-08</td>\n",
              "      <td>-1</td>\n",
              "      <td>Unknown/Other</td>\n",
              "    </tr>\n",
              "  </tbody>\n",
              "</table>\n",
              "</div>"
            ],
            "text/plain": [
              "      id date_of_enrollment  ... income_at_exit  exit_destination\n",
              "0  56550         2017-09-10  ...             -1     Unknown/Other\n",
              "1  36139         2017-09-10  ...             -1     Unknown/Other\n",
              "2  36140         2017-09-10  ...             -1     Unknown/Other\n",
              "3  36141         2017-09-10  ...           1600     Unknown/Other\n",
              "4  36142         2017-09-10  ...             -1     Unknown/Other\n",
              "\n",
              "[5 rows x 13 columns]"
            ]
          },
          "metadata": {
            "tags": []
          },
          "execution_count": 179
        }
      ]
    },
    {
      "cell_type": "code",
      "metadata": {
        "id": "MlFi6AAYrnoB"
      },
      "source": [
        "def start_pipeline(df):\r\n",
        "    '''Creates a copy of original dataframe to use in pipeline'''\r\n",
        "    return df.copy()\r\n",
        "\r\n",
        "def unpack_json_cols(df):\r\n",
        "  '''Unpack json columns into a dataframe and concatenate each resulting dataframe to the original dataframe.'''  \r\n",
        "  demographics = pd.json_normalize(df['demographics'])\r\n",
        "  barriers = pd.json_normalize(df['barriers'])\r\n",
        "  schools = pd.json_normalize(df['schools'])\r\n",
        "  df = pd.concat([df, demographics, barriers, schools], axis=1)\r\n",
        "  return df\r\n",
        "\r\n",
        "def delete_cols(df):\r\n",
        "  '''Deletes original json columns as well as columns that will not be used in training the model (because of leakage)'''\r\n",
        "  json_cols = ['barriers', 'demographics', 'schools']\r\n",
        "  not_used = ['id', 'predicted_exit_destination', 'family_id', 'date_of_exit', 'income_at_exit', 'date_of_enrollment']\r\n",
        "  df.drop(columns=[*json_cols, *not_used], inplace=True)\r\n",
        "  return df\r\n",
        "\r\n",
        "def barriers(df):\r\n",
        "  '''Assigns a value of True if the person has the barrier, else False'''\r\n",
        "  has_barrier = ['Alcohol Abuse', 'Developmental Disability', 'Chronic Health', 'Drug Abuse', 'HIV/AIDS', 'Mental Illness', 'Physical Disability']\r\n",
        "  barrier_cols = ['HIV_AIDs',\t'drug_abuse',\t'alcohol_abuse',\t'mental_illness',\t'chronic_health_issues', 'physical_disabilities',\t'developmental_disabilities']\r\n",
        "  for barrier in barrier_cols:\r\n",
        "    df[barrier] = df[barrier].apply(lambda x: True if x in has_barrier else False)\r\n",
        "  return df\r\n",
        "\r\n",
        "def replace_values(df):\r\n",
        "  '''\r\n",
        "  Replace missing and unknown values in data to NaN.\r\n",
        "  Currently, missing values in the database are denoted as either -1.0 or \"\" (an empty string)\r\n",
        "  '''\r\n",
        "  replace_list = [-1.0, \"\"]\r\n",
        "  df.replace(replace_list, np.NaN, inplace=True)\r\n",
        "  return df"
      ],
      "execution_count": 180,
      "outputs": []
    },
    {
      "cell_type": "code",
      "metadata": {
        "id": "pL28FsMhroKD"
      },
      "source": [
        "# Execute pipeline\r\n",
        "\r\n",
        "df_clean = (df\r\n",
        "      .pipe(start_pipeline)\r\n",
        "      .pipe(unpack_json_cols)\r\n",
        "      .pipe(delete_cols)\r\n",
        "      .pipe(barriers)\r\n",
        "      .pipe(replace_values)\r\n",
        ")"
      ],
      "execution_count": 181,
      "outputs": []
    },
    {
      "cell_type": "code",
      "metadata": {
        "colab": {
          "base_uri": "https://localhost:8080/",
          "height": 391
        },
        "id": "hMgxsYtrtGXi",
        "outputId": "3d756ab3-a3a3-4958-fc9d-3681f7b1be55"
      },
      "source": [
        "df_clean.head()"
      ],
      "execution_count": 182,
      "outputs": [
        {
          "output_type": "execute_result",
          "data": {
            "text/html": [
              "<div>\n",
              "<style scoped>\n",
              "    .dataframe tbody tr th:only-of-type {\n",
              "        vertical-align: middle;\n",
              "    }\n",
              "\n",
              "    .dataframe tbody tr th {\n",
              "        vertical-align: top;\n",
              "    }\n",
              "\n",
              "    .dataframe thead th {\n",
              "        text-align: right;\n",
              "    }\n",
              "</style>\n",
              "<table border=\"1\" class=\"dataframe\">\n",
              "  <thead>\n",
              "    <tr style=\"text-align: right;\">\n",
              "      <th></th>\n",
              "      <th>household_type</th>\n",
              "      <th>length_of_stay</th>\n",
              "      <th>case_members</th>\n",
              "      <th>exit_destination</th>\n",
              "      <th>race</th>\n",
              "      <th>gender</th>\n",
              "      <th>income</th>\n",
              "      <th>ethnicity</th>\n",
              "      <th>relationship</th>\n",
              "      <th>HIV_AIDs</th>\n",
              "      <th>drug_abuse</th>\n",
              "      <th>alcohol_abuse</th>\n",
              "      <th>mental_illness</th>\n",
              "      <th>chronic_health_issues</th>\n",
              "      <th>physical_disabilities</th>\n",
              "      <th>developmental_disabilities</th>\n",
              "      <th>enrolled_status</th>\n",
              "    </tr>\n",
              "  </thead>\n",
              "  <tbody>\n",
              "    <tr>\n",
              "      <th>0</th>\n",
              "      <td>Household with Adults and Children</td>\n",
              "      <td>120</td>\n",
              "      <td>6</td>\n",
              "      <td>Unknown/Other</td>\n",
              "      <td>White</td>\n",
              "      <td>Male</td>\n",
              "      <td>NaN</td>\n",
              "      <td>Non-Hispanic/Latino</td>\n",
              "      <td>Son</td>\n",
              "      <td>False</td>\n",
              "      <td>False</td>\n",
              "      <td>False</td>\n",
              "      <td>False</td>\n",
              "      <td>False</td>\n",
              "      <td>False</td>\n",
              "      <td>False</td>\n",
              "      <td>NaN</td>\n",
              "    </tr>\n",
              "    <tr>\n",
              "      <th>1</th>\n",
              "      <td>Household with Adults and Children</td>\n",
              "      <td>136</td>\n",
              "      <td>6</td>\n",
              "      <td>Unknown/Other</td>\n",
              "      <td>White</td>\n",
              "      <td>Female</td>\n",
              "      <td>NaN</td>\n",
              "      <td>Non-Hispanic/Latino</td>\n",
              "      <td>Daughter</td>\n",
              "      <td>False</td>\n",
              "      <td>False</td>\n",
              "      <td>False</td>\n",
              "      <td>False</td>\n",
              "      <td>False</td>\n",
              "      <td>False</td>\n",
              "      <td>False</td>\n",
              "      <td>NaN</td>\n",
              "    </tr>\n",
              "    <tr>\n",
              "      <th>2</th>\n",
              "      <td>Household with Adults and Children</td>\n",
              "      <td>120</td>\n",
              "      <td>6</td>\n",
              "      <td>Unknown/Other</td>\n",
              "      <td>White</td>\n",
              "      <td>Male</td>\n",
              "      <td>NaN</td>\n",
              "      <td>Non-Hispanic/Latino</td>\n",
              "      <td>Son</td>\n",
              "      <td>False</td>\n",
              "      <td>False</td>\n",
              "      <td>False</td>\n",
              "      <td>False</td>\n",
              "      <td>False</td>\n",
              "      <td>False</td>\n",
              "      <td>False</td>\n",
              "      <td>NaN</td>\n",
              "    </tr>\n",
              "    <tr>\n",
              "      <th>3</th>\n",
              "      <td>Household with Adults and Children</td>\n",
              "      <td>120</td>\n",
              "      <td>6</td>\n",
              "      <td>Unknown/Other</td>\n",
              "      <td>White</td>\n",
              "      <td>Female</td>\n",
              "      <td>1200.0</td>\n",
              "      <td>Non-Hispanic/Latino</td>\n",
              "      <td>Significant Other (Non-Married)</td>\n",
              "      <td>False</td>\n",
              "      <td>True</td>\n",
              "      <td>False</td>\n",
              "      <td>True</td>\n",
              "      <td>False</td>\n",
              "      <td>False</td>\n",
              "      <td>False</td>\n",
              "      <td>NaN</td>\n",
              "    </tr>\n",
              "    <tr>\n",
              "      <th>4</th>\n",
              "      <td>Household with Adults and Children</td>\n",
              "      <td>120</td>\n",
              "      <td>6</td>\n",
              "      <td>Unknown/Other</td>\n",
              "      <td>White</td>\n",
              "      <td>Male</td>\n",
              "      <td>NaN</td>\n",
              "      <td>Non-Hispanic/Latino</td>\n",
              "      <td>Son</td>\n",
              "      <td>False</td>\n",
              "      <td>False</td>\n",
              "      <td>False</td>\n",
              "      <td>False</td>\n",
              "      <td>False</td>\n",
              "      <td>False</td>\n",
              "      <td>False</td>\n",
              "      <td>NaN</td>\n",
              "    </tr>\n",
              "  </tbody>\n",
              "</table>\n",
              "</div>"
            ],
            "text/plain": [
              "                       household_type  ...  enrolled_status\n",
              "0  Household with Adults and Children  ...              NaN\n",
              "1  Household with Adults and Children  ...              NaN\n",
              "2  Household with Adults and Children  ...              NaN\n",
              "3  Household with Adults and Children  ...              NaN\n",
              "4  Household with Adults and Children  ...              NaN\n",
              "\n",
              "[5 rows x 17 columns]"
            ]
          },
          "metadata": {
            "tags": []
          },
          "execution_count": 182
        }
      ]
    },
    {
      "cell_type": "markdown",
      "metadata": {
        "id": "xMdBfvO7OwPA"
      },
      "source": [
        "To avoid data leakage, only train on the head of household for each family (ie 'relationship' == 'Self')"
      ]
    },
    {
      "cell_type": "code",
      "metadata": {
        "id": "EiFChLRxcsLB"
      },
      "source": [
        "df_training = df_clean[df_clean['relationship'] == 'Self']"
      ],
      "execution_count": 183,
      "outputs": []
    },
    {
      "cell_type": "code",
      "metadata": {
        "colab": {
          "base_uri": "https://localhost:8080/",
          "height": 518
        },
        "id": "Kdhq1nv3Qgqg",
        "outputId": "4a6a534f-96e4-4527-caae-7b757c70c575"
      },
      "source": [
        "#Remove 'relationship' column before training because it isn't pertinent to the model \r\n",
        "#Remember, the only members we're training on are the head of households (to avoid leakage)\r\n",
        "\r\n",
        "df_training.drop(columns=['relationship'], inplace=True)\r\n",
        "df_training.head()"
      ],
      "execution_count": 187,
      "outputs": [
        {
          "output_type": "stream",
          "text": [
            "/usr/local/lib/python3.7/dist-packages/pandas/core/frame.py:4174: SettingWithCopyWarning:\n",
            "\n",
            "\n",
            "A value is trying to be set on a copy of a slice from a DataFrame\n",
            "\n",
            "See the caveats in the documentation: https://pandas.pydata.org/pandas-docs/stable/user_guide/indexing.html#returning-a-view-versus-a-copy\n",
            "\n"
          ],
          "name": "stderr"
        },
        {
          "output_type": "execute_result",
          "data": {
            "text/html": [
              "<div>\n",
              "<style scoped>\n",
              "    .dataframe tbody tr th:only-of-type {\n",
              "        vertical-align: middle;\n",
              "    }\n",
              "\n",
              "    .dataframe tbody tr th {\n",
              "        vertical-align: top;\n",
              "    }\n",
              "\n",
              "    .dataframe thead th {\n",
              "        text-align: right;\n",
              "    }\n",
              "</style>\n",
              "<table border=\"1\" class=\"dataframe\">\n",
              "  <thead>\n",
              "    <tr style=\"text-align: right;\">\n",
              "      <th></th>\n",
              "      <th>household_type</th>\n",
              "      <th>length_of_stay</th>\n",
              "      <th>case_members</th>\n",
              "      <th>exit_destination</th>\n",
              "      <th>race</th>\n",
              "      <th>gender</th>\n",
              "      <th>income</th>\n",
              "      <th>ethnicity</th>\n",
              "      <th>HIV_AIDs</th>\n",
              "      <th>drug_abuse</th>\n",
              "      <th>alcohol_abuse</th>\n",
              "      <th>mental_illness</th>\n",
              "      <th>chronic_health_issues</th>\n",
              "      <th>physical_disabilities</th>\n",
              "      <th>developmental_disabilities</th>\n",
              "      <th>enrolled_status</th>\n",
              "    </tr>\n",
              "  </thead>\n",
              "  <tbody>\n",
              "    <tr>\n",
              "      <th>5</th>\n",
              "      <td>Household with Adults and Children</td>\n",
              "      <td>91</td>\n",
              "      <td>6</td>\n",
              "      <td>Permanent Exit</td>\n",
              "      <td>White</td>\n",
              "      <td>Female</td>\n",
              "      <td>1600.00</td>\n",
              "      <td>Non-Hispanic/Latino</td>\n",
              "      <td>False</td>\n",
              "      <td>False</td>\n",
              "      <td>False</td>\n",
              "      <td>False</td>\n",
              "      <td>False</td>\n",
              "      <td>False</td>\n",
              "      <td>False</td>\n",
              "      <td>NaN</td>\n",
              "    </tr>\n",
              "    <tr>\n",
              "      <th>11</th>\n",
              "      <td>Household with Adults and Children</td>\n",
              "      <td>104</td>\n",
              "      <td>3</td>\n",
              "      <td>Permanent Exit</td>\n",
              "      <td>White</td>\n",
              "      <td>Female</td>\n",
              "      <td>NaN</td>\n",
              "      <td>Non-Hispanic/Latino</td>\n",
              "      <td>False</td>\n",
              "      <td>False</td>\n",
              "      <td>False</td>\n",
              "      <td>False</td>\n",
              "      <td>False</td>\n",
              "      <td>False</td>\n",
              "      <td>False</td>\n",
              "      <td>NaN</td>\n",
              "    </tr>\n",
              "    <tr>\n",
              "      <th>15</th>\n",
              "      <td>Household with Adults and Children</td>\n",
              "      <td>111</td>\n",
              "      <td>7</td>\n",
              "      <td>Emergency Shelter</td>\n",
              "      <td>White</td>\n",
              "      <td>Female</td>\n",
              "      <td>NaN</td>\n",
              "      <td>Non-Hispanic/Latino</td>\n",
              "      <td>False</td>\n",
              "      <td>False</td>\n",
              "      <td>False</td>\n",
              "      <td>False</td>\n",
              "      <td>False</td>\n",
              "      <td>False</td>\n",
              "      <td>False</td>\n",
              "      <td>NaN</td>\n",
              "    </tr>\n",
              "    <tr>\n",
              "      <th>21</th>\n",
              "      <td>Household with Adults and Children</td>\n",
              "      <td>35</td>\n",
              "      <td>4</td>\n",
              "      <td>Permanent Exit</td>\n",
              "      <td>White</td>\n",
              "      <td>Male</td>\n",
              "      <td>402.79</td>\n",
              "      <td>Non-Hispanic/Latino</td>\n",
              "      <td>False</td>\n",
              "      <td>False</td>\n",
              "      <td>True</td>\n",
              "      <td>False</td>\n",
              "      <td>False</td>\n",
              "      <td>False</td>\n",
              "      <td>False</td>\n",
              "      <td>NaN</td>\n",
              "    </tr>\n",
              "    <tr>\n",
              "      <th>27</th>\n",
              "      <td>Household with Adults and Children</td>\n",
              "      <td>101</td>\n",
              "      <td>3</td>\n",
              "      <td>Permanent Exit</td>\n",
              "      <td>White</td>\n",
              "      <td>Male</td>\n",
              "      <td>NaN</td>\n",
              "      <td>Non-Hispanic/Latino</td>\n",
              "      <td>False</td>\n",
              "      <td>False</td>\n",
              "      <td>False</td>\n",
              "      <td>False</td>\n",
              "      <td>False</td>\n",
              "      <td>False</td>\n",
              "      <td>False</td>\n",
              "      <td>NaN</td>\n",
              "    </tr>\n",
              "  </tbody>\n",
              "</table>\n",
              "</div>"
            ],
            "text/plain": [
              "                        household_type  ...  enrolled_status\n",
              "5   Household with Adults and Children  ...              NaN\n",
              "11  Household with Adults and Children  ...              NaN\n",
              "15  Household with Adults and Children  ...              NaN\n",
              "21  Household with Adults and Children  ...              NaN\n",
              "27  Household with Adults and Children  ...              NaN\n",
              "\n",
              "[5 rows x 16 columns]"
            ]
          },
          "metadata": {
            "tags": []
          },
          "execution_count": 187
        }
      ]
    },
    {
      "cell_type": "code",
      "metadata": {
        "id": "4DcDk2HXcsPL"
      },
      "source": [
        "target = 'exit_destination'\r\n",
        "\r\n",
        "X = df_training.drop(columns=[target])\r\n",
        "y = df_training[target]\r\n",
        "\r\n",
        "X_train, X_test, y_train, y_test = train_test_split(X, y, test_size=0.2, random_state=42)"
      ],
      "execution_count": 188,
      "outputs": []
    },
    {
      "cell_type": "code",
      "metadata": {
        "colab": {
          "base_uri": "https://localhost:8080/"
        },
        "id": "7JE6aeZTnWL_",
        "outputId": "ba006f2a-ec20-46bd-81d9-7061e3320c45"
      },
      "source": [
        "X_train.columns"
      ],
      "execution_count": 189,
      "outputs": [
        {
          "output_type": "execute_result",
          "data": {
            "text/plain": [
              "Index(['household_type', 'length_of_stay', 'case_members', 'race', 'gender',\n",
              "       'income', 'ethnicity', 'HIV_AIDs', 'drug_abuse', 'alcohol_abuse',\n",
              "       'mental_illness', 'chronic_health_issues', 'physical_disabilities',\n",
              "       'developmental_disabilities', 'enrolled_status'],\n",
              "      dtype='object')"
            ]
          },
          "metadata": {
            "tags": []
          },
          "execution_count": 189
        }
      ]
    },
    {
      "cell_type": "code",
      "metadata": {
        "id": "ujpX3kiggJro"
      },
      "source": [
        "# Pipeline for random forest model\r\n",
        "random_forest_model = Pipeline([( 'ord', OrdinalEncoder()),\r\n",
        "                                ('imputer', SimpleImputer()),\r\n",
        "                                ('classifier', RandomForestClassifier(n_estimators=1000, n_jobs=-1, random_state=42, verbose=1))])"
      ],
      "execution_count": 190,
      "outputs": []
    },
    {
      "cell_type": "code",
      "metadata": {
        "colab": {
          "base_uri": "https://localhost:8080/"
        },
        "id": "7EjHi90qgJuB",
        "outputId": "a406ba43-b476-4084-eada-b6a2fe2ae8a2"
      },
      "source": [
        "# Fit the model\r\n",
        "random_forest_model.fit(X_train, y_train)"
      ],
      "execution_count": 191,
      "outputs": [
        {
          "output_type": "stream",
          "text": [
            "[Parallel(n_jobs=-1)]: Using backend ThreadingBackend with 2 concurrent workers.\n",
            "[Parallel(n_jobs=-1)]: Done  46 tasks      | elapsed:    0.1s\n",
            "[Parallel(n_jobs=-1)]: Done 196 tasks      | elapsed:    0.3s\n",
            "[Parallel(n_jobs=-1)]: Done 446 tasks      | elapsed:    0.7s\n",
            "[Parallel(n_jobs=-1)]: Done 796 tasks      | elapsed:    1.3s\n",
            "[Parallel(n_jobs=-1)]: Done 1000 out of 1000 | elapsed:    1.6s finished\n"
          ],
          "name": "stderr"
        },
        {
          "output_type": "execute_result",
          "data": {
            "text/plain": [
              "Pipeline(memory=None,\n",
              "         steps=[('ord',\n",
              "                 OrdinalEncoder(cols=['household_type', 'race', 'gender',\n",
              "                                      'ethnicity', 'enrolled_status'],\n",
              "                                drop_invariant=False, handle_missing='value',\n",
              "                                handle_unknown='value',\n",
              "                                mapping=[{'col': 'household_type',\n",
              "                                          'data_type': dtype('O'),\n",
              "                                          'mapping': Household without Children            1\n",
              "Household with Adults and Children    2\n",
              "Household with Only Children          3\n",
              "NaN                                  -2\n",
              "dtype: int6...\n",
              "                 RandomForestClassifier(bootstrap=True, ccp_alpha=0.0,\n",
              "                                        class_weight=None, criterion='gini',\n",
              "                                        max_depth=None, max_features='auto',\n",
              "                                        max_leaf_nodes=None, max_samples=None,\n",
              "                                        min_impurity_decrease=0.0,\n",
              "                                        min_impurity_split=None,\n",
              "                                        min_samples_leaf=1, min_samples_split=2,\n",
              "                                        min_weight_fraction_leaf=0.0,\n",
              "                                        n_estimators=1000, n_jobs=-1,\n",
              "                                        oob_score=False, random_state=42,\n",
              "                                        verbose=1, warm_start=False))],\n",
              "         verbose=False)"
            ]
          },
          "metadata": {
            "tags": []
          },
          "execution_count": 191
        }
      ]
    },
    {
      "cell_type": "code",
      "metadata": {
        "colab": {
          "base_uri": "https://localhost:8080/"
        },
        "id": "Hfc4ud4VgJwV",
        "outputId": "2fc3b2a6-8faa-4043-b0c8-66f74995d434"
      },
      "source": [
        "random_forest_model.score(X_test, y_test)"
      ],
      "execution_count": 192,
      "outputs": [
        {
          "output_type": "stream",
          "text": [
            "[Parallel(n_jobs=2)]: Using backend ThreadingBackend with 2 concurrent workers.\n",
            "[Parallel(n_jobs=2)]: Done  46 tasks      | elapsed:    0.0s\n",
            "[Parallel(n_jobs=2)]: Done 196 tasks      | elapsed:    0.0s\n",
            "[Parallel(n_jobs=2)]: Done 446 tasks      | elapsed:    0.1s\n",
            "[Parallel(n_jobs=2)]: Done 796 tasks      | elapsed:    0.2s\n",
            "[Parallel(n_jobs=2)]: Done 1000 out of 1000 | elapsed:    0.2s finished\n"
          ],
          "name": "stderr"
        },
        {
          "output_type": "execute_result",
          "data": {
            "text/plain": [
              "0.40860215053763443"
            ]
          },
          "metadata": {
            "tags": []
          },
          "execution_count": 192
        }
      ]
    },
    {
      "cell_type": "markdown",
      "metadata": {
        "id": "hpNOt6NkciT5"
      },
      "source": [
        "# Model Serialization"
      ]
    },
    {
      "cell_type": "code",
      "metadata": {
        "id": "RwxccLQNc4lj",
        "colab": {
          "base_uri": "https://localhost:8080/"
        },
        "outputId": "41a6934f-398e-47d1-b017-542001d5cb86"
      },
      "source": [
        "import joblib\r\n",
        "\r\n",
        "clf = random_forest_model\r\n",
        "joblib_file = \"model.pkl\"\r\n",
        "joblib.dump(clf, joblib_file)"
      ],
      "execution_count": 203,
      "outputs": [
        {
          "output_type": "execute_result",
          "data": {
            "text/plain": [
              "['model.pkl']"
            ]
          },
          "metadata": {
            "tags": []
          },
          "execution_count": 203
        }
      ]
    },
    {
      "cell_type": "code",
      "metadata": {
        "id": "3U3a8xFWhUuf"
      },
      "source": [
        "# Extract the classifier step from the pipeline\r\n",
        "# clf = random_forest_model['classifier']\r\n",
        "# joblib_file = \"randomforest_modelv1.pkl\"\r\n",
        "# joblib.dump(clf, joblib_file)"
      ],
      "execution_count": null,
      "outputs": []
    },
    {
      "cell_type": "code",
      "metadata": {
        "id": "2Ph7mFPwhVu1"
      },
      "source": [],
      "execution_count": null,
      "outputs": []
    },
    {
      "cell_type": "code",
      "metadata": {
        "id": "26rLPLGShVxN"
      },
      "source": [],
      "execution_count": null,
      "outputs": []
    }
  ]
}